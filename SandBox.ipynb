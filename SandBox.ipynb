{
 "cells": [
  {
   "cell_type": "code",
   "execution_count": 8,
   "metadata": {},
   "outputs": [],
   "source": [
    "# base imports\n",
    "import os\n",
    "import numpy as np\n",
    "import pandas as pd\n",
    "import matplotlib.pyplot as plt\n",
    "from sklearn.model_selection import train_test_split\n",
    "from zipfile import ZipFile"
   ]
  },
  {
   "cell_type": "code",
   "execution_count": 9,
   "metadata": {},
   "outputs": [],
   "source": [
    "# torch imports\n",
    "import torch\n",
    "from torch import nn\n",
    "from torch.utils.data import DataLoader\n",
    "import torch.nn.functional as F\n",
    "from torch.utils.data import Dataset\n",
    "from torchvision import transforms"
   ]
  },
  {
   "cell_type": "code",
   "execution_count": 13,
   "metadata": {},
   "outputs": [],
   "source": [
    "# Read in Unzipped file and make into a gzip\n",
    "# DONT NEED TO RUN THIS AGAIN\n",
    "# dataFrame = pd.read_csv('./data/age_gender.csv')\n",
    "# dataFrame.to_csv('./data/age_gender.gz', compression='gzip')"
   ]
  },
  {
   "cell_type": "code",
   "execution_count": 15,
   "metadata": {},
   "outputs": [],
   "source": [
    "# Read in the zipped file and split\n",
    "dataFrame = pd.read_csv('./data/age_gender.gz', compression='gzip')\n",
    "train_dataFrame, test_dataFrame = train_test_split(dataFrame, test_size=0.2)"
   ]
  },
  {
   "cell_type": "code",
   "execution_count": 16,
   "metadata": {},
   "outputs": [
    {
     "name": "stdout",
     "output_type": "stream",
     "text": [
      "104 5 2\n"
     ]
    }
   ],
   "source": [
    "age_features = len(dataFrame['age'].unique())\n",
    "eth_features = len(dataFrame['ethnicity'].unique())\n",
    "gen_features = len(dataFrame['gender'].unique())\n",
    "\n",
    "print(age_features, eth_features, gen_features)"
   ]
  },
  {
   "cell_type": "code",
   "execution_count": 38,
   "metadata": {},
   "outputs": [],
   "source": [
    "# Define train and test transforms\n",
    "train_transform = transforms.Compose([\n",
    "    transforms.ToTensor(),\n",
    "    transforms.Normalize((0.49,), (0.23,))\n",
    "])\n",
    "\n",
    "test_transform = transforms.Compose([\n",
    "    transforms.ToTensor(),\n",
    "    transforms.Normalize((0.49,), (0.23,))\n",
    "])"
   ]
  },
  {
   "cell_type": "code",
   "execution_count": 56,
   "metadata": {},
   "outputs": [],
   "source": [
    "# Custom dataset class\n",
    "class GenderDataset(Dataset):\n",
    "    '''\n",
    "        Inputs:\n",
    "            dataFrame : Pandas dataFrame\n",
    "            transform : The transform to apply to the dataset\n",
    "    '''\n",
    "    def __init__(self, dataFrame, transform=None):\n",
    "        # read in the transforms\n",
    "        self.transform = transform\n",
    "        \n",
    "        # Use the dataFrame to get the pixel values\n",
    "        data_holder = dataFrame.pixels.apply(lambda x: np.array(x.split(\" \"),dtype=float))\n",
    "        arr = np.stack(data_holder)\n",
    "        arr = arr / 255.0\n",
    "        arr = arr.astype('float32')\n",
    "        arr = arr.reshape(arr.shape[0], 48, 48, 1)\n",
    "        # reshape into 48x48x1\n",
    "        self.data = arr\n",
    "        \n",
    "        # get the age, gender, and ethnicity label arrays\n",
    "        self.age_label = np.array(dataFrame.age[:])\n",
    "        self.gender_label = np.array(dataFrame.gender[:])\n",
    "        self.eth_label = np.array(dataFrame.ethnicity[:])\n",
    "    \n",
    "    # override the length function\n",
    "    def __len__(self):\n",
    "        return len(self.data)\n",
    "    \n",
    "    # override the getitem function\n",
    "    def __getitem__(self, index):\n",
    "        # load the data at index and apply transform\n",
    "        data = self.data[index]\n",
    "        data = self.transform(data)\n",
    "        \n",
    "        # load the labels into a list and convert to tensors\n",
    "        labels = torch.tensor([self.age_label[index], self.gender_label[index], self.eth_label[index]])\n",
    "        \n",
    "        # return data labels\n",
    "        return data, labels"
   ]
  },
  {
   "cell_type": "code",
   "execution_count": 57,
   "metadata": {},
   "outputs": [],
   "source": [
    "# Construct the custom pytorch datasets\n",
    "train_set = GenderDataset(train_dataFrame, transform=train_transform)\n",
    "test_set = GenderDataset(test_dataFrame, transform=test_transform)\n",
    "\n",
    "# Load the datasets into dataloaders\n",
    "train_loader = DataLoader(train_set, batch_size=64, shuffle=True)\n",
    "test_loader = DataLoader(test_set, batch_size=128, shuffle=False)"
   ]
  },
  {
   "cell_type": "code",
   "execution_count": 58,
   "metadata": {},
   "outputs": [
    {
     "name": "stdout",
     "output_type": "stream",
     "text": [
      "mean: 0.4902603328227997\n",
      "std dev: 0.2330981194972992\n"
     ]
    }
   ],
   "source": [
    "# find the mean and standard deviation (used initially for the transforms)\n",
    "print(f'mean: {dataset.data.mean()}')\n",
    "print(f'std dev: {dataset.data.std()}')"
   ]
  },
  {
   "cell_type": "code",
   "execution_count": 60,
   "metadata": {
    "scrolled": true
   },
   "outputs": [
    {
     "name": "stdout",
     "output_type": "stream",
     "text": [
      "Shape of training X: torch.Size([64, 1, 48, 48])\n",
      "Shape of y: torch.Size([64, 3])\n"
     ]
    }
   ],
   "source": [
    "# Sanity Check\n",
    "for X, y in train_loader:\n",
    "    print(f'Shape of training X: {X.shape}')\n",
    "    print(f'Shape of y: {y.shape}')\n",
    "    break"
   ]
  }
 ],
 "metadata": {
  "kernelspec": {
   "display_name": "Python 3",
   "language": "python",
   "name": "python3"
  },
  "language_info": {
   "codemirror_mode": {
    "name": "ipython",
    "version": 3
   },
   "file_extension": ".py",
   "mimetype": "text/x-python",
   "name": "python",
   "nbconvert_exporter": "python",
   "pygments_lexer": "ipython3",
   "version": "3.7.4"
  }
 },
 "nbformat": 4,
 "nbformat_minor": 4
}
